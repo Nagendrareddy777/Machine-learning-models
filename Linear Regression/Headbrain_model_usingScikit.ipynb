{
 "cells": [
  {
   "cell_type": "code",
   "execution_count": 1,
   "id": "f3e3a906",
   "metadata": {},
   "outputs": [],
   "source": [
    "import matplotlib.pyplot as plt\n",
    "import numpy as np\n",
    "import pandas as pd\n",
    "import matplotlib.axes as ax"
   ]
  },
  {
   "cell_type": "code",
   "execution_count": 2,
   "id": "13ef9935",
   "metadata": {},
   "outputs": [],
   "source": [
    "file=pd.read_csv(\"HeadBrain.csv\")"
   ]
  },
  {
   "cell_type": "code",
   "execution_count": 3,
   "id": "b4548a62",
   "metadata": {
    "scrolled": true
   },
   "outputs": [
    {
     "data": {
      "text/html": [
       "<div>\n",
       "<style scoped>\n",
       "    .dataframe tbody tr th:only-of-type {\n",
       "        vertical-align: middle;\n",
       "    }\n",
       "\n",
       "    .dataframe tbody tr th {\n",
       "        vertical-align: top;\n",
       "    }\n",
       "\n",
       "    .dataframe thead th {\n",
       "        text-align: right;\n",
       "    }\n",
       "</style>\n",
       "<table border=\"1\" class=\"dataframe\">\n",
       "  <thead>\n",
       "    <tr style=\"text-align: right;\">\n",
       "      <th></th>\n",
       "      <th>Gender</th>\n",
       "      <th>Age Range</th>\n",
       "      <th>Head Size(cm^3)</th>\n",
       "      <th>Brain Weight(grams)</th>\n",
       "    </tr>\n",
       "  </thead>\n",
       "  <tbody>\n",
       "    <tr>\n",
       "      <th>0</th>\n",
       "      <td>1</td>\n",
       "      <td>1</td>\n",
       "      <td>4512</td>\n",
       "      <td>1530</td>\n",
       "    </tr>\n",
       "    <tr>\n",
       "      <th>1</th>\n",
       "      <td>1</td>\n",
       "      <td>1</td>\n",
       "      <td>3738</td>\n",
       "      <td>1297</td>\n",
       "    </tr>\n",
       "    <tr>\n",
       "      <th>2</th>\n",
       "      <td>1</td>\n",
       "      <td>1</td>\n",
       "      <td>4261</td>\n",
       "      <td>1335</td>\n",
       "    </tr>\n",
       "    <tr>\n",
       "      <th>3</th>\n",
       "      <td>1</td>\n",
       "      <td>1</td>\n",
       "      <td>3777</td>\n",
       "      <td>1282</td>\n",
       "    </tr>\n",
       "    <tr>\n",
       "      <th>4</th>\n",
       "      <td>1</td>\n",
       "      <td>1</td>\n",
       "      <td>4177</td>\n",
       "      <td>1590</td>\n",
       "    </tr>\n",
       "    <tr>\n",
       "      <th>...</th>\n",
       "      <td>...</td>\n",
       "      <td>...</td>\n",
       "      <td>...</td>\n",
       "      <td>...</td>\n",
       "    </tr>\n",
       "    <tr>\n",
       "      <th>232</th>\n",
       "      <td>2</td>\n",
       "      <td>2</td>\n",
       "      <td>3214</td>\n",
       "      <td>1110</td>\n",
       "    </tr>\n",
       "    <tr>\n",
       "      <th>233</th>\n",
       "      <td>2</td>\n",
       "      <td>2</td>\n",
       "      <td>3394</td>\n",
       "      <td>1215</td>\n",
       "    </tr>\n",
       "    <tr>\n",
       "      <th>234</th>\n",
       "      <td>2</td>\n",
       "      <td>2</td>\n",
       "      <td>3233</td>\n",
       "      <td>1104</td>\n",
       "    </tr>\n",
       "    <tr>\n",
       "      <th>235</th>\n",
       "      <td>2</td>\n",
       "      <td>2</td>\n",
       "      <td>3352</td>\n",
       "      <td>1170</td>\n",
       "    </tr>\n",
       "    <tr>\n",
       "      <th>236</th>\n",
       "      <td>2</td>\n",
       "      <td>2</td>\n",
       "      <td>3391</td>\n",
       "      <td>1120</td>\n",
       "    </tr>\n",
       "  </tbody>\n",
       "</table>\n",
       "<p>237 rows × 4 columns</p>\n",
       "</div>"
      ],
      "text/plain": [
       "     Gender  Age Range  Head Size(cm^3)  Brain Weight(grams)\n",
       "0         1          1             4512                 1530\n",
       "1         1          1             3738                 1297\n",
       "2         1          1             4261                 1335\n",
       "3         1          1             3777                 1282\n",
       "4         1          1             4177                 1590\n",
       "..      ...        ...              ...                  ...\n",
       "232       2          2             3214                 1110\n",
       "233       2          2             3394                 1215\n",
       "234       2          2             3233                 1104\n",
       "235       2          2             3352                 1170\n",
       "236       2          2             3391                 1120\n",
       "\n",
       "[237 rows x 4 columns]"
      ]
     },
     "execution_count": 3,
     "metadata": {},
     "output_type": "execute_result"
    }
   ],
   "source": [
    "file"
   ]
  },
  {
   "cell_type": "code",
   "execution_count": 4,
   "id": "d7b5ec3c",
   "metadata": {},
   "outputs": [
    {
     "data": {
      "text/plain": [
       "(237, 4)"
      ]
     },
     "execution_count": 4,
     "metadata": {},
     "output_type": "execute_result"
    }
   ],
   "source": [
    "file.shape"
   ]
  },
  {
   "cell_type": "code",
   "execution_count": 5,
   "id": "d4a6823d",
   "metadata": {},
   "outputs": [
    {
     "name": "stdout",
     "output_type": "stream",
     "text": [
      "<class 'pandas.core.frame.DataFrame'>\n",
      "RangeIndex: 237 entries, 0 to 236\n",
      "Data columns (total 4 columns):\n",
      " #   Column               Non-Null Count  Dtype\n",
      "---  ------               --------------  -----\n",
      " 0   Gender               237 non-null    int64\n",
      " 1   Age Range            237 non-null    int64\n",
      " 2   Head Size(cm^3)      237 non-null    int64\n",
      " 3   Brain Weight(grams)  237 non-null    int64\n",
      "dtypes: int64(4)\n",
      "memory usage: 7.5 KB\n"
     ]
    }
   ],
   "source": [
    "file.info()"
   ]
  },
  {
   "cell_type": "code",
   "execution_count": 6,
   "id": "5c5861bc",
   "metadata": {},
   "outputs": [
    {
     "data": {
      "text/plain": [
       "Gender                 0\n",
       "Age Range              0\n",
       "Head Size(cm^3)        0\n",
       "Brain Weight(grams)    0\n",
       "dtype: int64"
      ]
     },
     "execution_count": 6,
     "metadata": {},
     "output_type": "execute_result"
    }
   ],
   "source": [
    "file.isna().sum()"
   ]
  },
  {
   "cell_type": "markdown",
   "id": "c214ec78",
   "metadata": {},
   "source": [
    "# splitting  data to Train the model and test the model"
   ]
  },
  {
   "cell_type": "code",
   "execution_count": 29,
   "id": "72052f0c",
   "metadata": {},
   "outputs": [],
   "source": [
    "train_input=np.array(file[\"Head Size(cm^3)\"][:200])\n",
    "train_output=np.array(file[\"Brain Weight(grams)\"][:200])\n",
    "\n",
    "test_input=np.array(file[\"Head Size(cm^3)\"][200:])\n",
    "test_output=np.array(file[\"Brain Weight(grams)\"][200:])\n"
   ]
  },
  {
   "cell_type": "code",
   "execution_count": 30,
   "id": "a125e626",
   "metadata": {},
   "outputs": [
    {
     "data": {
      "text/plain": [
       "array([4512, 3738, 4261, 3777, 4177, 3585, 3785, 3559, 3613, 3982, 3443,\n",
       "       3993, 3640, 4208, 3832, 3876, 3497, 3466, 3095, 4424, 3878, 4046,\n",
       "       3804, 3710, 4747, 4423, 4036, 4022, 3454, 4175, 3787, 3796, 4103,\n",
       "       4161, 4158, 3814, 3527, 3748, 3334, 3492, 3962, 3505, 4315, 3804,\n",
       "       3863, 4034, 4308, 3165, 3641, 3644, 3891, 3793, 4270, 4063, 4012,\n",
       "       3458, 3890, 4166, 3935, 3669, 3866, 3393, 4442, 4253, 3727, 3329,\n",
       "       3415, 3372, 4430, 4381, 4008, 3858, 4121, 4057, 3824, 3394, 3558,\n",
       "       3362, 3930, 3835, 3830, 3856, 3249, 3577, 3933, 3850, 3309, 3406,\n",
       "       3506, 3907, 4160, 3318, 3662, 3899, 3700, 3779, 3473, 3490, 3654,\n",
       "       3478, 3495, 3834, 3876, 3661, 3618, 3648, 4032, 3399, 3916, 4430,\n",
       "       3695, 3524, 3571, 3594, 3383, 3499, 3589, 3900, 4114, 3937, 3399,\n",
       "       4200, 4488, 3614, 4051, 3782, 3391, 3124, 4053, 3582, 3666, 3532,\n",
       "       4046, 3667, 2857, 3436, 3791, 3302, 3104, 3171, 3572, 3530, 3175,\n",
       "       3438, 3903, 3899, 3401, 3267, 3451, 3090, 3413, 3323, 3680, 3439,\n",
       "       3853, 3156, 3279, 3707, 4006, 3269, 3071, 3779, 3548, 3292, 3497,\n",
       "       3082, 3248, 3358, 3803, 3566, 3145, 3503, 3571, 3724, 3615, 3203,\n",
       "       3609, 3561, 3979, 3533, 3689, 3158, 4005, 3181, 3479, 3642, 3632,\n",
       "       3069, 3394, 3703, 3165, 3354, 3000, 3687, 3556, 2773, 3058, 3344,\n",
       "       3493, 3297], dtype=int64)"
      ]
     },
     "execution_count": 30,
     "metadata": {},
     "output_type": "execute_result"
    }
   ],
   "source": [
    "train_input"
   ]
  },
  {
   "cell_type": "code",
   "execution_count": 44,
   "id": "75167864",
   "metadata": {},
   "outputs": [
    {
     "data": {
      "text/plain": [
       "(200, 1)"
      ]
     },
     "execution_count": 44,
     "metadata": {},
     "output_type": "execute_result"
    }
   ],
   "source": [
    "train_input.shape\n"
   ]
  },
  {
   "cell_type": "code",
   "execution_count": 45,
   "id": "3c5e8c73",
   "metadata": {},
   "outputs": [
    {
     "data": {
      "text/plain": [
       "(200,)"
      ]
     },
     "execution_count": 45,
     "metadata": {},
     "output_type": "execute_result"
    }
   ],
   "source": [
    "train_output.shape\n"
   ]
  },
  {
   "cell_type": "code",
   "execution_count": 33,
   "id": "1938dd42",
   "metadata": {},
   "outputs": [
    {
     "data": {
      "text/plain": [
       "200"
      ]
     },
     "execution_count": 33,
     "metadata": {},
     "output_type": "execute_result"
    }
   ],
   "source": [
    "train_input.size"
   ]
  },
  {
   "cell_type": "code",
   "execution_count": 46,
   "id": "b189e13a",
   "metadata": {
    "scrolled": true
   },
   "outputs": [],
   "source": [
    "train_input=train_input.reshape(200,1)\n",
    "train_output=train_output.reshape(200,1)"
   ]
  },
  {
   "cell_type": "code",
   "execution_count": 37,
   "id": "2de9cff2",
   "metadata": {
    "scrolled": true
   },
   "outputs": [
    {
     "data": {
      "text/plain": [
       "array([[4512],\n",
       "       [3738],\n",
       "       [4261],\n",
       "       [3777],\n",
       "       [4177],\n",
       "       [3585],\n",
       "       [3785],\n",
       "       [3559],\n",
       "       [3613],\n",
       "       [3982],\n",
       "       [3443],\n",
       "       [3993],\n",
       "       [3640],\n",
       "       [4208],\n",
       "       [3832],\n",
       "       [3876],\n",
       "       [3497],\n",
       "       [3466],\n",
       "       [3095],\n",
       "       [4424],\n",
       "       [3878],\n",
       "       [4046],\n",
       "       [3804],\n",
       "       [3710],\n",
       "       [4747],\n",
       "       [4423],\n",
       "       [4036],\n",
       "       [4022],\n",
       "       [3454],\n",
       "       [4175],\n",
       "       [3787],\n",
       "       [3796],\n",
       "       [4103],\n",
       "       [4161],\n",
       "       [4158],\n",
       "       [3814],\n",
       "       [3527],\n",
       "       [3748],\n",
       "       [3334],\n",
       "       [3492],\n",
       "       [3962],\n",
       "       [3505],\n",
       "       [4315],\n",
       "       [3804],\n",
       "       [3863],\n",
       "       [4034],\n",
       "       [4308],\n",
       "       [3165],\n",
       "       [3641],\n",
       "       [3644],\n",
       "       [3891],\n",
       "       [3793],\n",
       "       [4270],\n",
       "       [4063],\n",
       "       [4012],\n",
       "       [3458],\n",
       "       [3890],\n",
       "       [4166],\n",
       "       [3935],\n",
       "       [3669],\n",
       "       [3866],\n",
       "       [3393],\n",
       "       [4442],\n",
       "       [4253],\n",
       "       [3727],\n",
       "       [3329],\n",
       "       [3415],\n",
       "       [3372],\n",
       "       [4430],\n",
       "       [4381],\n",
       "       [4008],\n",
       "       [3858],\n",
       "       [4121],\n",
       "       [4057],\n",
       "       [3824],\n",
       "       [3394],\n",
       "       [3558],\n",
       "       [3362],\n",
       "       [3930],\n",
       "       [3835],\n",
       "       [3830],\n",
       "       [3856],\n",
       "       [3249],\n",
       "       [3577],\n",
       "       [3933],\n",
       "       [3850],\n",
       "       [3309],\n",
       "       [3406],\n",
       "       [3506],\n",
       "       [3907],\n",
       "       [4160],\n",
       "       [3318],\n",
       "       [3662],\n",
       "       [3899],\n",
       "       [3700],\n",
       "       [3779],\n",
       "       [3473],\n",
       "       [3490],\n",
       "       [3654],\n",
       "       [3478],\n",
       "       [3495],\n",
       "       [3834],\n",
       "       [3876],\n",
       "       [3661],\n",
       "       [3618],\n",
       "       [3648],\n",
       "       [4032],\n",
       "       [3399],\n",
       "       [3916],\n",
       "       [4430],\n",
       "       [3695],\n",
       "       [3524],\n",
       "       [3571],\n",
       "       [3594],\n",
       "       [3383],\n",
       "       [3499],\n",
       "       [3589],\n",
       "       [3900],\n",
       "       [4114],\n",
       "       [3937],\n",
       "       [3399],\n",
       "       [4200],\n",
       "       [4488],\n",
       "       [3614],\n",
       "       [4051],\n",
       "       [3782],\n",
       "       [3391],\n",
       "       [3124],\n",
       "       [4053],\n",
       "       [3582],\n",
       "       [3666],\n",
       "       [3532],\n",
       "       [4046],\n",
       "       [3667],\n",
       "       [2857],\n",
       "       [3436],\n",
       "       [3791],\n",
       "       [3302],\n",
       "       [3104],\n",
       "       [3171],\n",
       "       [3572],\n",
       "       [3530],\n",
       "       [3175],\n",
       "       [3438],\n",
       "       [3903],\n",
       "       [3899],\n",
       "       [3401],\n",
       "       [3267],\n",
       "       [3451],\n",
       "       [3090],\n",
       "       [3413],\n",
       "       [3323],\n",
       "       [3680],\n",
       "       [3439],\n",
       "       [3853],\n",
       "       [3156],\n",
       "       [3279],\n",
       "       [3707],\n",
       "       [4006],\n",
       "       [3269],\n",
       "       [3071],\n",
       "       [3779],\n",
       "       [3548],\n",
       "       [3292],\n",
       "       [3497],\n",
       "       [3082],\n",
       "       [3248],\n",
       "       [3358],\n",
       "       [3803],\n",
       "       [3566],\n",
       "       [3145],\n",
       "       [3503],\n",
       "       [3571],\n",
       "       [3724],\n",
       "       [3615],\n",
       "       [3203],\n",
       "       [3609],\n",
       "       [3561],\n",
       "       [3979],\n",
       "       [3533],\n",
       "       [3689],\n",
       "       [3158],\n",
       "       [4005],\n",
       "       [3181],\n",
       "       [3479],\n",
       "       [3642],\n",
       "       [3632],\n",
       "       [3069],\n",
       "       [3394],\n",
       "       [3703],\n",
       "       [3165],\n",
       "       [3354],\n",
       "       [3000],\n",
       "       [3687],\n",
       "       [3556],\n",
       "       [2773],\n",
       "       [3058],\n",
       "       [3344],\n",
       "       [3493],\n",
       "       [3297]], dtype=int64)"
      ]
     },
     "execution_count": 37,
     "metadata": {},
     "output_type": "execute_result"
    }
   ],
   "source": [
    "train_input"
   ]
  },
  {
   "cell_type": "code",
   "execution_count": 39,
   "id": "55989516",
   "metadata": {},
   "outputs": [
    {
     "data": {
      "text/plain": [
       "(200, 1)"
      ]
     },
     "execution_count": 39,
     "metadata": {},
     "output_type": "execute_result"
    }
   ],
   "source": [
    "train_input.shape"
   ]
  },
  {
   "cell_type": "code",
   "execution_count": 40,
   "id": "8fc9828e",
   "metadata": {},
   "outputs": [
    {
     "data": {
      "text/plain": [
       "200"
      ]
     },
     "execution_count": 40,
     "metadata": {},
     "output_type": "execute_result"
    }
   ],
   "source": [
    "train_input.size"
   ]
  },
  {
   "cell_type": "code",
   "execution_count": 38,
   "id": "d9ec20cd",
   "metadata": {},
   "outputs": [
    {
     "data": {
      "text/plain": [
       "37"
      ]
     },
     "execution_count": 38,
     "metadata": {},
     "output_type": "execute_result"
    }
   ],
   "source": [
    "test_input.size"
   ]
  },
  {
   "cell_type": "markdown",
   "id": "dff92dc4",
   "metadata": {},
   "source": [
    "# Automation to find unknown parameter using predifined library"
   ]
  },
  {
   "cell_type": "code",
   "execution_count": 19,
   "id": "d27ab0ca",
   "metadata": {},
   "outputs": [],
   "source": [
    "from sklearn.linear_model import LinearRegression"
   ]
  },
  {
   "cell_type": "code",
   "execution_count": 20,
   "id": "fbf3256c",
   "metadata": {},
   "outputs": [],
   "source": [
    "headbrain_model=LinearRegression()"
   ]
  },
  {
   "cell_type": "code",
   "execution_count": 47,
   "id": "7d83f6ac",
   "metadata": {},
   "outputs": [
    {
     "data": {
      "text/html": [
       "<style>#sk-container-id-1 {color: black;}#sk-container-id-1 pre{padding: 0;}#sk-container-id-1 div.sk-toggleable {background-color: white;}#sk-container-id-1 label.sk-toggleable__label {cursor: pointer;display: block;width: 100%;margin-bottom: 0;padding: 0.3em;box-sizing: border-box;text-align: center;}#sk-container-id-1 label.sk-toggleable__label-arrow:before {content: \"▸\";float: left;margin-right: 0.25em;color: #696969;}#sk-container-id-1 label.sk-toggleable__label-arrow:hover:before {color: black;}#sk-container-id-1 div.sk-estimator:hover label.sk-toggleable__label-arrow:before {color: black;}#sk-container-id-1 div.sk-toggleable__content {max-height: 0;max-width: 0;overflow: hidden;text-align: left;background-color: #f0f8ff;}#sk-container-id-1 div.sk-toggleable__content pre {margin: 0.2em;color: black;border-radius: 0.25em;background-color: #f0f8ff;}#sk-container-id-1 input.sk-toggleable__control:checked~div.sk-toggleable__content {max-height: 200px;max-width: 100%;overflow: auto;}#sk-container-id-1 input.sk-toggleable__control:checked~label.sk-toggleable__label-arrow:before {content: \"▾\";}#sk-container-id-1 div.sk-estimator input.sk-toggleable__control:checked~label.sk-toggleable__label {background-color: #d4ebff;}#sk-container-id-1 div.sk-label input.sk-toggleable__control:checked~label.sk-toggleable__label {background-color: #d4ebff;}#sk-container-id-1 input.sk-hidden--visually {border: 0;clip: rect(1px 1px 1px 1px);clip: rect(1px, 1px, 1px, 1px);height: 1px;margin: -1px;overflow: hidden;padding: 0;position: absolute;width: 1px;}#sk-container-id-1 div.sk-estimator {font-family: monospace;background-color: #f0f8ff;border: 1px dotted black;border-radius: 0.25em;box-sizing: border-box;margin-bottom: 0.5em;}#sk-container-id-1 div.sk-estimator:hover {background-color: #d4ebff;}#sk-container-id-1 div.sk-parallel-item::after {content: \"\";width: 100%;border-bottom: 1px solid gray;flex-grow: 1;}#sk-container-id-1 div.sk-label:hover label.sk-toggleable__label {background-color: #d4ebff;}#sk-container-id-1 div.sk-serial::before {content: \"\";position: absolute;border-left: 1px solid gray;box-sizing: border-box;top: 0;bottom: 0;left: 50%;z-index: 0;}#sk-container-id-1 div.sk-serial {display: flex;flex-direction: column;align-items: center;background-color: white;padding-right: 0.2em;padding-left: 0.2em;position: relative;}#sk-container-id-1 div.sk-item {position: relative;z-index: 1;}#sk-container-id-1 div.sk-parallel {display: flex;align-items: stretch;justify-content: center;background-color: white;position: relative;}#sk-container-id-1 div.sk-item::before, #sk-container-id-1 div.sk-parallel-item::before {content: \"\";position: absolute;border-left: 1px solid gray;box-sizing: border-box;top: 0;bottom: 0;left: 50%;z-index: -1;}#sk-container-id-1 div.sk-parallel-item {display: flex;flex-direction: column;z-index: 1;position: relative;background-color: white;}#sk-container-id-1 div.sk-parallel-item:first-child::after {align-self: flex-end;width: 50%;}#sk-container-id-1 div.sk-parallel-item:last-child::after {align-self: flex-start;width: 50%;}#sk-container-id-1 div.sk-parallel-item:only-child::after {width: 0;}#sk-container-id-1 div.sk-dashed-wrapped {border: 1px dashed gray;margin: 0 0.4em 0.5em 0.4em;box-sizing: border-box;padding-bottom: 0.4em;background-color: white;}#sk-container-id-1 div.sk-label label {font-family: monospace;font-weight: bold;display: inline-block;line-height: 1.2em;}#sk-container-id-1 div.sk-label-container {text-align: center;}#sk-container-id-1 div.sk-container {/* jupyter's `normalize.less` sets `[hidden] { display: none; }` but bootstrap.min.css set `[hidden] { display: none !important; }` so we also need the `!important` here to be able to override the default hidden behavior on the sphinx rendered scikit-learn.org. See: https://github.com/scikit-learn/scikit-learn/issues/21755 */display: inline-block !important;position: relative;}#sk-container-id-1 div.sk-text-repr-fallback {display: none;}</style><div id=\"sk-container-id-1\" class=\"sk-top-container\"><div class=\"sk-text-repr-fallback\"><pre>LinearRegression()</pre><b>In a Jupyter environment, please rerun this cell to show the HTML representation or trust the notebook. <br />On GitHub, the HTML representation is unable to render, please try loading this page with nbviewer.org.</b></div><div class=\"sk-container\" hidden><div class=\"sk-item\"><div class=\"sk-estimator sk-toggleable\"><input class=\"sk-toggleable__control sk-hidden--visually\" id=\"sk-estimator-id-1\" type=\"checkbox\" checked><label for=\"sk-estimator-id-1\" class=\"sk-toggleable__label sk-toggleable__label-arrow\">LinearRegression</label><div class=\"sk-toggleable__content\"><pre>LinearRegression()</pre></div></div></div></div></div>"
      ],
      "text/plain": [
       "LinearRegression()"
      ]
     },
     "execution_count": 47,
     "metadata": {},
     "output_type": "execute_result"
    }
   ],
   "source": [
    "headbrain_model.fit(train_input,train_output)"
   ]
  },
  {
   "cell_type": "code",
   "execution_count": 48,
   "id": "5a11633c",
   "metadata": {},
   "outputs": [
    {
     "data": {
      "text/plain": [
       "array([[0.24984028]])"
      ]
     },
     "execution_count": 48,
     "metadata": {},
     "output_type": "execute_result"
    }
   ],
   "source": [
    "headbrain_model.coef_"
   ]
  },
  {
   "cell_type": "code",
   "execution_count": 49,
   "id": "e47a1efa",
   "metadata": {},
   "outputs": [
    {
     "data": {
      "text/plain": [
       "array([379.79141187])"
      ]
     },
     "execution_count": 49,
     "metadata": {},
     "output_type": "execute_result"
    }
   ],
   "source": [
    "headbrain_model.intercept_"
   ]
  },
  {
   "cell_type": "code",
   "execution_count": 91,
   "id": "3a3c36f1",
   "metadata": {},
   "outputs": [],
   "source": [
    "predictions1=headbrain_model.predict(train_input)"
   ]
  },
  {
   "cell_type": "code",
   "execution_count": 95,
   "id": "da79b4a4",
   "metadata": {
    "scrolled": true
   },
   "outputs": [
    {
     "data": {
      "text/plain": [
       "array([[1507.07073554],\n",
       "       [1313.6943622 ],\n",
       "       [1444.36082636],\n",
       "       [1323.43813295],\n",
       "       [1423.37424321],\n",
       "       [1275.46880003],\n",
       "       [1325.43685516],\n",
       "       [1268.97295286],\n",
       "       [1282.46432775],\n",
       "       [1374.65538946],\n",
       "       [1239.99148089],\n",
       "       [1377.40363249],\n",
       "       [1289.21001519],\n",
       "       [1431.11929175],\n",
       "       [1337.17934811],\n",
       "       [1348.17232024],\n",
       "       [1253.48285577],\n",
       "       [1245.73780723],\n",
       "       [1153.04706497],\n",
       "       [1485.08479129],\n",
       "       [1348.67200079],\n",
       "       [1390.6451671 ],\n",
       "       [1330.18382039],\n",
       "       [1306.69883448],\n",
       "       [1565.78320032],\n",
       "       [1484.83495101],\n",
       "       [1388.14676434],\n",
       "       [1384.64900048],\n",
       "       [1242.73972392],\n",
       "       [1422.87456265],\n",
       "       [1325.93653571],\n",
       "       [1328.18509819],\n",
       "       [1404.88606281],\n",
       "       [1419.3767988 ],\n",
       "       [1418.62727797],\n",
       "       [1332.68222315],\n",
       "       [1260.97806404],\n",
       "       [1316.19276496],\n",
       "       [1212.75889084],\n",
       "       [1252.23365439],\n",
       "       [1369.65858394],\n",
       "       [1255.48157798],\n",
       "       [1457.85220124],\n",
       "       [1330.18382039],\n",
       "       [1344.92439666],\n",
       "       [1387.64708379],\n",
       "       [1456.10331931],\n",
       "       [1170.53588426],\n",
       "       [1289.45985546],\n",
       "       [1290.20937629],\n",
       "       [1351.91992437],\n",
       "       [1327.43557736],\n",
       "       [1446.60938884],\n",
       "       [1394.89245178],\n",
       "       [1382.15059773],\n",
       "       [1243.73908502],\n",
       "       [1351.6700841 ],\n",
       "       [1420.62600017],\n",
       "       [1362.9128965 ],\n",
       "       [1296.45538318],\n",
       "       [1345.67391748],\n",
       "       [1227.49946711],\n",
       "       [1489.58191625],\n",
       "       [1442.36210415],\n",
       "       [1310.94611917],\n",
       "       [1211.50968946],\n",
       "       [1232.99595317],\n",
       "       [1222.25282132],\n",
       "       [1486.58383294],\n",
       "       [1474.34165944],\n",
       "       [1381.15123662],\n",
       "       [1343.67519528],\n",
       "       [1409.38318777],\n",
       "       [1393.39341013],\n",
       "       [1335.18062591],\n",
       "       [1227.74930738],\n",
       "       [1268.72311259],\n",
       "       [1219.75441856],\n",
       "       [1361.66369512],\n",
       "       [1337.92886894],\n",
       "       [1336.67966756],\n",
       "       [1343.17551473],\n",
       "       [1191.52246741],\n",
       "       [1273.47007782],\n",
       "       [1362.41321595],\n",
       "       [1341.67647307],\n",
       "       [1206.51288395],\n",
       "       [1230.74739069],\n",
       "       [1255.73141825],\n",
       "       [1355.91736878],\n",
       "       [1419.12695852],\n",
       "       [1208.76144643],\n",
       "       [1294.70650125],\n",
       "       [1353.91864658],\n",
       "       [1304.20043173],\n",
       "       [1323.9378135 ],\n",
       "       [1247.48668916],\n",
       "       [1251.73397384],\n",
       "       [1292.70777905],\n",
       "       [1248.73589053],\n",
       "       [1252.98317522],\n",
       "       [1337.67902866],\n",
       "       [1348.17232024],\n",
       "       [1294.45666098],\n",
       "       [1283.71352912],\n",
       "       [1291.20873739],\n",
       "       [1387.14740324],\n",
       "       [1228.99850876],\n",
       "       [1358.16593126],\n",
       "       [1486.58383294],\n",
       "       [1302.95123035],\n",
       "       [1260.22854321],\n",
       "       [1271.97103617],\n",
       "       [1277.71736251],\n",
       "       [1225.00106435],\n",
       "       [1253.98253632],\n",
       "       [1276.46816113],\n",
       "       [1354.16848685],\n",
       "       [1407.63430584],\n",
       "       [1363.41257705],\n",
       "       [1228.99850876],\n",
       "       [1429.12056955],\n",
       "       [1501.07456893],\n",
       "       [1282.71416802],\n",
       "       [1391.89436848],\n",
       "       [1324.68733433],\n",
       "       [1226.99978655],\n",
       "       [1160.29243296],\n",
       "       [1392.39404903],\n",
       "       [1274.7192792 ],\n",
       "       [1295.70586235],\n",
       "       [1262.22726542],\n",
       "       [1390.6451671 ],\n",
       "       [1295.95570263],\n",
       "       [1093.58507936],\n",
       "       [1238.24259896],\n",
       "       [1326.93589681],\n",
       "       [1204.76400202],\n",
       "       [1155.29562745],\n",
       "       [1172.03492591],\n",
       "       [1272.22087644],\n",
       "       [1261.72758487],\n",
       "       [1173.03428702],\n",
       "       [1238.74227951],\n",
       "       [1354.91800768],\n",
       "       [1353.91864658],\n",
       "       [1229.49818931],\n",
       "       [1196.01959238],\n",
       "       [1241.99020309],\n",
       "       [1151.79786359],\n",
       "       [1232.49627262],\n",
       "       [1210.01064781],\n",
       "       [1299.20362621],\n",
       "       [1238.99211979],\n",
       "       [1342.4259939 ],\n",
       "       [1168.28732178],\n",
       "       [1199.01767568],\n",
       "       [1305.94931366],\n",
       "       [1380.65155607],\n",
       "       [1196.51927293],\n",
       "       [1147.05089835],\n",
       "       [1323.9378135 ],\n",
       "       [1266.22470983],\n",
       "       [1202.26559927],\n",
       "       [1253.48285577],\n",
       "       [1149.79914138],\n",
       "       [1191.27262714],\n",
       "       [1218.75505746],\n",
       "       [1329.93398012],\n",
       "       [1270.72183479],\n",
       "       [1165.53907875],\n",
       "       [1254.98189743],\n",
       "       [1271.97103617],\n",
       "       [1310.19659834],\n",
       "       [1282.9640083 ],\n",
       "       [1180.02981473],\n",
       "       [1281.46496664],\n",
       "       [1269.47263341],\n",
       "       [1373.90586863],\n",
       "       [1262.47710569],\n",
       "       [1301.45218869],\n",
       "       [1168.78700233],\n",
       "       [1380.4017158 ],\n",
       "       [1174.53332867],\n",
       "       [1248.98573081],\n",
       "       [1289.70969574],\n",
       "       [1287.21129298],\n",
       "       [1146.5512178 ],\n",
       "       [1227.74930738],\n",
       "       [1304.94995255],\n",
       "       [1170.53588426],\n",
       "       [1217.75569636],\n",
       "       [1129.31223878],\n",
       "       [1300.95250814],\n",
       "       [1268.22343203],\n",
       "       [1072.59849621],\n",
       "       [1143.80297477],\n",
       "       [1215.2572936 ],\n",
       "       [1252.48349467],\n",
       "       [1203.51480064]])"
      ]
     },
     "execution_count": 95,
     "metadata": {},
     "output_type": "execute_result"
    }
   ],
   "source": [
    "predictions1"
   ]
  },
  {
   "cell_type": "markdown",
   "id": "4aeed380",
   "metadata": {},
   "source": [
    "# VISUALIZE THE DATA"
   ]
  },
  {
   "cell_type": "code",
   "execution_count": 110,
   "id": "bc5f2cac",
   "metadata": {},
   "outputs": [
    {
     "name": "stderr",
     "output_type": "stream",
     "text": [
      "No artists with labels found to put in legend.  Note that artists whose label start with an underscore are ignored when legend() is called with no argument.\n"
     ]
    },
    {
     "data": {
      "image/png": "[encoded data removed]",
      "text/plain": [
       "<Figure size 640x480 with 1 Axes>"
      ]
     },
     "metadata": {},
     "output_type": "display_data"
    }
   ],
   "source": [
    "plt.plot(train_input,train_output,\"+\",color=\"red\")\n",
    "plt.plot(train_input,predictions1,\"x\",color=\"green\")\n",
    "plt.xlabel(\"INPUT\")\n",
    "plt.ylabel(\"output\")\n",
    "plt.title(\"Linear Regression\")\n",
    "plt.legend()\n",
    "plt.show()"
   ]
  },
  {
   "cell_type": "code",
   "execution_count": 92,
   "id": "96c90860",
   "metadata": {},
   "outputs": [],
   "source": [
    "predictions2=headbrain_model.predict(test_input.reshape(37,1))"
   ]
  },
  {
   "cell_type": "code",
   "execution_count": 96,
   "id": "20618e74",
   "metadata": {
    "scrolled": false
   },
   "outputs": [
    {
     "data": {
      "text/plain": [
       "array([[1219.25473801],\n",
       "       [1186.27582163],\n",
       "       [1198.51799513],\n",
       "       [1341.92631335],\n",
       "       [1146.05153725],\n",
       "       [1302.20170952],\n",
       "       [1229.74802959],\n",
       "       [1377.90331304],\n",
       "       [1208.76144643],\n",
       "       [1059.3569616 ],\n",
       "       [1113.57230142],\n",
       "       [1274.21959865],\n",
       "       [1114.07198197],\n",
       "       [1126.56399575],\n",
       "       [1275.7186403 ],\n",
       "       [1168.28732178],\n",
       "       [1190.77294659],\n",
       "       [1171.78508564],\n",
       "       [1196.26943265],\n",
       "       [1226.500106  ],\n",
       "       [1224.5013838 ],\n",
       "       [1095.33396129],\n",
       "       [1314.19404275],\n",
       "       [1248.98573081],\n",
       "       [1290.95889712],\n",
       "       [1308.19787614],\n",
       "       [1200.26687706],\n",
       "       [1430.11993065],\n",
       "       [1312.94484137],\n",
       "       [1183.77741887],\n",
       "       [1300.45282759],\n",
       "       [1305.19979283],\n",
       "       [1182.77805777],\n",
       "       [1227.74930738],\n",
       "       [1187.525023  ],\n",
       "       [1217.2560158 ],\n",
       "       [1226.99978655]])"
      ]
     },
     "execution_count": 96,
     "metadata": {},
     "output_type": "execute_result"
    }
   ],
   "source": [
    "predictions2"
   ]
  },
  {
   "cell_type": "code",
   "execution_count": 109,
   "id": "cf8a94e4",
   "metadata": {},
   "outputs": [
    {
     "name": "stderr",
     "output_type": "stream",
     "text": [
      "No artists with labels found to put in legend.  Note that artists whose label start with an underscore are ignored when legend() is called with no argument.\n"
     ]
    },
    {
     "data": {
      "image/png": "[encoded data removed]",
      "text/plain": [
       "<Figure size 640x480 with 1 Axes>"
      ]
     },
     "metadata": {},
     "output_type": "display_data"
    }
   ],
   "source": [
    "plt.plot(test_input.reshape(37,1),test_output.reshape(37,1),\"+\",color=\"red\")\n",
    "plt.plot(test_input,predictions2,\"x\",color=\"green\")\n",
    "plt.xlabel(\"INPUT\")\n",
    "plt.ylabel(\"output\")\n",
    "plt.title(\"Linear Regression\")\n",
    "plt.legend()\n",
    "plt.show()"
   ]
  },
  {
   "cell_type": "code",
   "execution_count": 100,
   "id": "665c1e41",
   "metadata": {},
   "outputs": [],
   "source": [
    "predictions=np.append(predictions1,predictions2)"
   ]
  },
  {
   "cell_type": "code",
   "execution_count": 103,
   "id": "50480ea7",
   "metadata": {},
   "outputs": [
    {
     "data": {
      "text/plain": [
       "237"
      ]
     },
     "execution_count": 103,
     "metadata": {},
     "output_type": "execute_result"
    }
   ],
   "source": [
    "predictions.shape[0]"
   ]
  },
  {
   "cell_type": "code",
   "execution_count": 104,
   "id": "a0e34d8a",
   "metadata": {
    "scrolled": true
   },
   "outputs": [],
   "source": [
    "file[\"predictions\"]=predictions"
   ]
  },
  {
   "cell_type": "code",
   "execution_count": 105,
   "id": "20b130c9",
   "metadata": {},
   "outputs": [
    {
     "data": {
      "text/html": [
       "<div>\n",
       "<style scoped>\n",
       "    .dataframe tbody tr th:only-of-type {\n",
       "        vertical-align: middle;\n",
       "    }\n",
       "\n",
       "    .dataframe tbody tr th {\n",
       "        vertical-align: top;\n",
       "    }\n",
       "\n",
       "    .dataframe thead th {\n",
       "        text-align: right;\n",
       "    }\n",
       "</style>\n",
       "<table border=\"1\" class=\"dataframe\">\n",
       "  <thead>\n",
       "    <tr style=\"text-align: right;\">\n",
       "      <th></th>\n",
       "      <th>Gender</th>\n",
       "      <th>Age Range</th>\n",
       "      <th>Head Size(cm^3)</th>\n",
       "      <th>Brain Weight(grams)</th>\n",
       "      <th>predictions</th>\n",
       "    </tr>\n",
       "  </thead>\n",
       "  <tbody>\n",
       "    <tr>\n",
       "      <th>0</th>\n",
       "      <td>1</td>\n",
       "      <td>1</td>\n",
       "      <td>4512</td>\n",
       "      <td>1530</td>\n",
       "      <td>1507.070736</td>\n",
       "    </tr>\n",
       "    <tr>\n",
       "      <th>1</th>\n",
       "      <td>1</td>\n",
       "      <td>1</td>\n",
       "      <td>3738</td>\n",
       "      <td>1297</td>\n",
       "      <td>1313.694362</td>\n",
       "    </tr>\n",
       "    <tr>\n",
       "      <th>2</th>\n",
       "      <td>1</td>\n",
       "      <td>1</td>\n",
       "      <td>4261</td>\n",
       "      <td>1335</td>\n",
       "      <td>1444.360826</td>\n",
       "    </tr>\n",
       "    <tr>\n",
       "      <th>3</th>\n",
       "      <td>1</td>\n",
       "      <td>1</td>\n",
       "      <td>3777</td>\n",
       "      <td>1282</td>\n",
       "      <td>1323.438133</td>\n",
       "    </tr>\n",
       "    <tr>\n",
       "      <th>4</th>\n",
       "      <td>1</td>\n",
       "      <td>1</td>\n",
       "      <td>4177</td>\n",
       "      <td>1590</td>\n",
       "      <td>1423.374243</td>\n",
       "    </tr>\n",
       "    <tr>\n",
       "      <th>...</th>\n",
       "      <td>...</td>\n",
       "      <td>...</td>\n",
       "      <td>...</td>\n",
       "      <td>...</td>\n",
       "      <td>...</td>\n",
       "    </tr>\n",
       "    <tr>\n",
       "      <th>232</th>\n",
       "      <td>2</td>\n",
       "      <td>2</td>\n",
       "      <td>3214</td>\n",
       "      <td>1110</td>\n",
       "      <td>1182.778058</td>\n",
       "    </tr>\n",
       "    <tr>\n",
       "      <th>233</th>\n",
       "      <td>2</td>\n",
       "      <td>2</td>\n",
       "      <td>3394</td>\n",
       "      <td>1215</td>\n",
       "      <td>1227.749307</td>\n",
       "    </tr>\n",
       "    <tr>\n",
       "      <th>234</th>\n",
       "      <td>2</td>\n",
       "      <td>2</td>\n",
       "      <td>3233</td>\n",
       "      <td>1104</td>\n",
       "      <td>1187.525023</td>\n",
       "    </tr>\n",
       "    <tr>\n",
       "      <th>235</th>\n",
       "      <td>2</td>\n",
       "      <td>2</td>\n",
       "      <td>3352</td>\n",
       "      <td>1170</td>\n",
       "      <td>1217.256016</td>\n",
       "    </tr>\n",
       "    <tr>\n",
       "      <th>236</th>\n",
       "      <td>2</td>\n",
       "      <td>2</td>\n",
       "      <td>3391</td>\n",
       "      <td>1120</td>\n",
       "      <td>1226.999787</td>\n",
       "    </tr>\n",
       "  </tbody>\n",
       "</table>\n",
       "<p>237 rows × 5 columns</p>\n",
       "</div>"
      ],
      "text/plain": [
       "     Gender  Age Range  Head Size(cm^3)  Brain Weight(grams)  predictions\n",
       "0         1          1             4512                 1530  1507.070736\n",
       "1         1          1             3738                 1297  1313.694362\n",
       "2         1          1             4261                 1335  1444.360826\n",
       "3         1          1             3777                 1282  1323.438133\n",
       "4         1          1             4177                 1590  1423.374243\n",
       "..      ...        ...              ...                  ...          ...\n",
       "232       2          2             3214                 1110  1182.778058\n",
       "233       2          2             3394                 1215  1227.749307\n",
       "234       2          2             3233                 1104  1187.525023\n",
       "235       2          2             3352                 1170  1217.256016\n",
       "236       2          2             3391                 1120  1226.999787\n",
       "\n",
       "[237 rows x 5 columns]"
      ]
     },
     "execution_count": 105,
     "metadata": {},
     "output_type": "execute_result"
    }
   ],
   "source": [
    "file"
   ]
  },
  {
   "cell_type": "code",
   "execution_count": 107,
   "id": "6a85d2f9",
   "metadata": {},
   "outputs": [],
   "source": [
    "file.to_csv(\"model.csv\")"
   ]
  },
  {
   "cell_type": "code",
   "execution_count": null,
   "id": "29e826d5",
   "metadata": {},
   "outputs": [],
   "source": []
  }
 ],
 "metadata": {
  "kernelspec": {
   "display_name": "Python 3 (ipykernel)",
   "language": "python",
   "name": "python3"
  },
  "language_info": {
   "codemirror_mode": {
    "name": "ipython",
    "version": 3
   },
   "file_extension": ".py",
   "mimetype": "text/x-python",
   "name": "python",
   "nbconvert_exporter": "python",
   "pygments_lexer": "ipython3",
   "version": "3.11.5"
  }
 },
 "nbformat": 4,
 "nbformat_minor": 5
}
