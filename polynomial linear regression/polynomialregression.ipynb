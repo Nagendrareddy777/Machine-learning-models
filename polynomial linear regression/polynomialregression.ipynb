{
 "cells": [
  {
   "cell_type": "code",
   "execution_count": 1,
   "id": "ce3951fe",
   "metadata": {
    "_cell_guid": "b1076dfc-b9ad-4769-8c92-a6c4dae69d19",
    "_uuid": "8f2839f25d086af736a60e9eeb907d3b93b6e0e5",
    "execution": {
     "iopub.execute_input": "2024-04-21T06:43:43.349093Z",
     "iopub.status.busy": "2024-04-21T06:43:43.348432Z",
     "iopub.status.idle": "2024-04-21T06:43:44.417793Z",
     "shell.execute_reply": "2024-04-21T06:43:44.415915Z"
    },
    "papermill": {
     "duration": 1.081533,
     "end_time": "2024-04-21T06:43:44.420853",
     "exception": false,
     "start_time": "2024-04-21T06:43:43.339320",
     "status": "completed"
    },
    "tags": []
   },
   "outputs": [
    {
     "name": "stdout",
     "output_type": "stream",
     "text": [
      "/kaggle/input/polynomial-regression/Ice_cream selling data.csv\n"
     ]
    }
   ],
   "source": [
    "# This Python 3 environment comes with many helpful analytics libraries installed\n",
    "# It is defined by the kaggle/python Docker image: https://github.com/kaggle/docker-python\n",
    "# For example, here's several helpful packages to load\n",
    "\n",
    "import numpy as np # linear algebra\n",
    "import pandas as pd # data processing, CSV file I/O (e.g. pd.read_csv)\n",
    "\n",
    "# Input data files are available in the read-only \"../input/\" directory\n",
    "# For example, running this (by clicking run or pressing Shift+Enter) will list all files under the input directory\n",
    "\n",
    "import os\n",
    "for dirname, _, filenames in os.walk('/kaggle/input'):\n",
    "    for filename in filenames:\n",
    "        print(os.path.join(dirname, filename))\n",
    "\n",
    "# You can write up to 20GB to the current directory (/kaggle/working/) that gets preserved as output when you create a version using \"Save & Run All\" \n",
    "# You can also write temporary files to /kaggle/temp/, but they won't be saved outside of the current session"
   ]
  },
  {
   "cell_type": "code",
   "execution_count": 2,
   "id": "58d02b67",
   "metadata": {
    "execution": {
     "iopub.execute_input": "2024-04-21T06:43:44.437674Z",
     "iopub.status.busy": "2024-04-21T06:43:44.436653Z",
     "iopub.status.idle": "2024-04-21T06:43:44.443316Z",
     "shell.execute_reply": "2024-04-21T06:43:44.442062Z"
    },
    "papermill": {
     "duration": 0.01787,
     "end_time": "2024-04-21T06:43:44.446106",
     "exception": false,
     "start_time": "2024-04-21T06:43:44.428236",
     "status": "completed"
    },
    "tags": []
   },
   "outputs": [],
   "source": [
    "filepath=\"/kaggle/input/polynomial-regression/Ice_cream selling data.csv\""
   ]
  },
  {
   "cell_type": "code",
   "execution_count": 3,
   "id": "783f1267",
   "metadata": {
    "execution": {
     "iopub.execute_input": "2024-04-21T06:43:44.462872Z",
     "iopub.status.busy": "2024-04-21T06:43:44.461801Z",
     "iopub.status.idle": "2024-04-21T06:43:44.484359Z",
     "shell.execute_reply": "2024-04-21T06:43:44.482972Z"
    },
    "papermill": {
     "duration": 0.034105,
     "end_time": "2024-04-21T06:43:44.487311",
     "exception": false,
     "start_time": "2024-04-21T06:43:44.453206",
     "status": "completed"
    },
    "tags": []
   },
   "outputs": [],
   "source": [
    "df=pd.read_csv(filepath)"
   ]
  },
  {
   "cell_type": "code",
   "execution_count": 4,
   "id": "30013593",
   "metadata": {
    "execution": {
     "iopub.execute_input": "2024-04-21T06:43:44.503302Z",
     "iopub.status.busy": "2024-04-21T06:43:44.502488Z",
     "iopub.status.idle": "2024-04-21T06:43:44.527424Z",
     "shell.execute_reply": "2024-04-21T06:43:44.526230Z"
    },
    "papermill": {
     "duration": 0.035715,
     "end_time": "2024-04-21T06:43:44.529962",
     "exception": false,
     "start_time": "2024-04-21T06:43:44.494247",
     "status": "completed"
    },
    "tags": []
   },
   "outputs": [
    {
     "data": {
      "text/html": [
       "<div>\n",
       "<style scoped>\n",
       "    .dataframe tbody tr th:only-of-type {\n",
       "        vertical-align: middle;\n",
       "    }\n",
       "\n",
       "    .dataframe tbody tr th {\n",
       "        vertical-align: top;\n",
       "    }\n",
       "\n",
       "    .dataframe thead th {\n",
       "        text-align: right;\n",
       "    }\n",
       "</style>\n",
       "<table border=\"1\" class=\"dataframe\">\n",
       "  <thead>\n",
       "    <tr style=\"text-align: right;\">\n",
       "      <th></th>\n",
       "      <th>Temperature (°C)</th>\n",
       "      <th>Ice Cream Sales (units)</th>\n",
       "    </tr>\n",
       "  </thead>\n",
       "  <tbody>\n",
       "    <tr>\n",
       "      <th>0</th>\n",
       "      <td>-4.662263</td>\n",
       "      <td>41.842986</td>\n",
       "    </tr>\n",
       "    <tr>\n",
       "      <th>1</th>\n",
       "      <td>-4.316559</td>\n",
       "      <td>34.661120</td>\n",
       "    </tr>\n",
       "    <tr>\n",
       "      <th>2</th>\n",
       "      <td>-4.213985</td>\n",
       "      <td>39.383001</td>\n",
       "    </tr>\n",
       "    <tr>\n",
       "      <th>3</th>\n",
       "      <td>-3.949661</td>\n",
       "      <td>37.539845</td>\n",
       "    </tr>\n",
       "    <tr>\n",
       "      <th>4</th>\n",
       "      <td>-3.578554</td>\n",
       "      <td>32.284531</td>\n",
       "    </tr>\n",
       "  </tbody>\n",
       "</table>\n",
       "</div>"
      ],
      "text/plain": [
       "   Temperature (°C)  Ice Cream Sales (units)\n",
       "0         -4.662263                41.842986\n",
       "1         -4.316559                34.661120\n",
       "2         -4.213985                39.383001\n",
       "3         -3.949661                37.539845\n",
       "4         -3.578554                32.284531"
      ]
     },
     "execution_count": 4,
     "metadata": {},
     "output_type": "execute_result"
    }
   ],
   "source": [
    "df.head()"
   ]
  },
  {
   "cell_type": "code",
   "execution_count": 5,
   "id": "7239a422",
   "metadata": {
    "execution": {
     "iopub.execute_input": "2024-04-21T06:43:44.546892Z",
     "iopub.status.busy": "2024-04-21T06:43:44.545967Z",
     "iopub.status.idle": "2024-04-21T06:43:44.554055Z",
     "shell.execute_reply": "2024-04-21T06:43:44.552779Z"
    },
    "papermill": {
     "duration": 0.019857,
     "end_time": "2024-04-21T06:43:44.556731",
     "exception": false,
     "start_time": "2024-04-21T06:43:44.536874",
     "status": "completed"
    },
    "tags": []
   },
   "outputs": [
    {
     "data": {
      "text/plain": [
       "(49, 2)"
      ]
     },
     "execution_count": 5,
     "metadata": {},
     "output_type": "execute_result"
    }
   ],
   "source": [
    "df.shape"
   ]
  },
  {
   "cell_type": "code",
   "execution_count": 6,
   "id": "69e71b2d",
   "metadata": {
    "execution": {
     "iopub.execute_input": "2024-04-21T06:43:44.574125Z",
     "iopub.status.busy": "2024-04-21T06:43:44.573211Z",
     "iopub.status.idle": "2024-04-21T06:43:44.584256Z",
     "shell.execute_reply": "2024-04-21T06:43:44.583102Z"
    },
    "papermill": {
     "duration": 0.022866,
     "end_time": "2024-04-21T06:43:44.586778",
     "exception": false,
     "start_time": "2024-04-21T06:43:44.563912",
     "status": "completed"
    },
    "tags": []
   },
   "outputs": [
    {
     "data": {
      "text/plain": [
       "Temperature (°C)           0\n",
       "Ice Cream Sales (units)    0\n",
       "dtype: int64"
      ]
     },
     "execution_count": 6,
     "metadata": {},
     "output_type": "execute_result"
    }
   ],
   "source": [
    "df.isna().sum()"
   ]
  },
  {
   "cell_type": "code",
   "execution_count": 7,
   "id": "335f05a0",
   "metadata": {
    "execution": {
     "iopub.execute_input": "2024-04-21T06:43:44.604562Z",
     "iopub.status.busy": "2024-04-21T06:43:44.603730Z",
     "iopub.status.idle": "2024-04-21T06:43:46.206321Z",
     "shell.execute_reply": "2024-04-21T06:43:46.205120Z"
    },
    "papermill": {
     "duration": 1.614881,
     "end_time": "2024-04-21T06:43:46.209357",
     "exception": false,
     "start_time": "2024-04-21T06:43:44.594476",
     "status": "completed"
    },
    "tags": []
   },
   "outputs": [],
   "source": [
    "import seaborn as sns\n",
    "import matplotlib.pyplot as plt"
   ]
  },
  {
   "cell_type": "code",
   "execution_count": 8,
   "id": "bce147f3",
   "metadata": {
    "execution": {
     "iopub.execute_input": "2024-04-21T06:43:46.227586Z",
     "iopub.status.busy": "2024-04-21T06:43:46.225279Z",
     "iopub.status.idle": "2024-04-21T06:43:46.234030Z",
     "shell.execute_reply": "2024-04-21T06:43:46.232959Z"
    },
    "papermill": {
     "duration": 0.019643,
     "end_time": "2024-04-21T06:43:46.236381",
     "exception": false,
     "start_time": "2024-04-21T06:43:46.216738",
     "status": "completed"
    },
    "tags": []
   },
   "outputs": [
    {
     "data": {
      "text/plain": [
       "Index(['Temperature (°C)', 'Ice Cream Sales (units)'], dtype='object')"
      ]
     },
     "execution_count": 8,
     "metadata": {},
     "output_type": "execute_result"
    }
   ],
   "source": [
    "df.columns"
   ]
  },
  {
   "cell_type": "code",
   "execution_count": 9,
   "id": "4b9240e0",
   "metadata": {
    "execution": {
     "iopub.execute_input": "2024-04-21T06:43:46.253416Z",
     "iopub.status.busy": "2024-04-21T06:43:46.252742Z",
     "iopub.status.idle": "2024-04-21T06:43:46.601587Z",
     "shell.execute_reply": "2024-04-21T06:43:46.600171Z"
    },
    "papermill": {
     "duration": 0.36081,
     "end_time": "2024-04-21T06:43:46.604609",
     "exception": false,
     "start_time": "2024-04-21T06:43:46.243799",
     "status": "completed"
    },
    "tags": []
   },
   "outputs": [
    {
     "data": {
      "text/plain": [
       "<Axes: xlabel='Temperature (°C)', ylabel='Ice Cream Sales (units)'>"
      ]
     },
     "execution_count": 9,
     "metadata": {},
     "output_type": "execute_result"
    },
    {
     "data": {
      "image/png": "[encoded data removed]",
      "text/plain": [
       "<Figure size 640x480 with 1 Axes>"
      ]
     },
     "metadata": {},
     "output_type": "display_data"
    }
   ],
   "source": [
    "sns.scatterplot(x=\"Temperature (°C)\",y=\"Ice Cream Sales (units)\",data=df,color=\"red\")"
   ]
  },
  {
   "cell_type": "code",
   "execution_count": 10,
   "id": "319e11ac",
   "metadata": {
    "execution": {
     "iopub.execute_input": "2024-04-21T06:43:46.623780Z",
     "iopub.status.busy": "2024-04-21T06:43:46.623390Z",
     "iopub.status.idle": "2024-04-21T06:43:46.633351Z",
     "shell.execute_reply": "2024-04-21T06:43:46.632128Z"
    },
    "papermill": {
     "duration": 0.022313,
     "end_time": "2024-04-21T06:43:46.635844",
     "exception": false,
     "start_time": "2024-04-21T06:43:46.613531",
     "status": "completed"
    },
    "tags": []
   },
   "outputs": [],
   "source": [
    "train_input=df[[\"Temperature (°C)\"]]\n",
    "train_output=df[[\"Ice Cream Sales (units)\"]]"
   ]
  },
  {
   "cell_type": "code",
   "execution_count": 11,
   "id": "7af17680",
   "metadata": {
    "execution": {
     "iopub.execute_input": "2024-04-21T06:43:46.653784Z",
     "iopub.status.busy": "2024-04-21T06:43:46.653427Z",
     "iopub.status.idle": "2024-04-21T06:43:46.667875Z",
     "shell.execute_reply": "2024-04-21T06:43:46.666271Z"
    },
    "papermill": {
     "duration": 0.026668,
     "end_time": "2024-04-21T06:43:46.670625",
     "exception": false,
     "start_time": "2024-04-21T06:43:46.643957",
     "status": "completed"
    },
    "tags": []
   },
   "outputs": [
    {
     "data": {
      "text/html": [
       "<div>\n",
       "<style scoped>\n",
       "    .dataframe tbody tr th:only-of-type {\n",
       "        vertical-align: middle;\n",
       "    }\n",
       "\n",
       "    .dataframe tbody tr th {\n",
       "        vertical-align: top;\n",
       "    }\n",
       "\n",
       "    .dataframe thead th {\n",
       "        text-align: right;\n",
       "    }\n",
       "</style>\n",
       "<table border=\"1\" class=\"dataframe\">\n",
       "  <thead>\n",
       "    <tr style=\"text-align: right;\">\n",
       "      <th></th>\n",
       "      <th>Ice Cream Sales (units)</th>\n",
       "    </tr>\n",
       "  </thead>\n",
       "  <tbody>\n",
       "    <tr>\n",
       "      <th>0</th>\n",
       "      <td>41.842986</td>\n",
       "    </tr>\n",
       "    <tr>\n",
       "      <th>1</th>\n",
       "      <td>34.661120</td>\n",
       "    </tr>\n",
       "    <tr>\n",
       "      <th>2</th>\n",
       "      <td>39.383001</td>\n",
       "    </tr>\n",
       "    <tr>\n",
       "      <th>3</th>\n",
       "      <td>37.539845</td>\n",
       "    </tr>\n",
       "    <tr>\n",
       "      <th>4</th>\n",
       "      <td>32.284531</td>\n",
       "    </tr>\n",
       "    <tr>\n",
       "      <th>5</th>\n",
       "      <td>30.001138</td>\n",
       "    </tr>\n",
       "    <tr>\n",
       "      <th>6</th>\n",
       "      <td>22.635401</td>\n",
       "    </tr>\n",
       "    <tr>\n",
       "      <th>7</th>\n",
       "      <td>25.365022</td>\n",
       "    </tr>\n",
       "    <tr>\n",
       "      <th>8</th>\n",
       "      <td>19.226970</td>\n",
       "    </tr>\n",
       "    <tr>\n",
       "      <th>9</th>\n",
       "      <td>20.279679</td>\n",
       "    </tr>\n",
       "    <tr>\n",
       "      <th>10</th>\n",
       "      <td>13.275828</td>\n",
       "    </tr>\n",
       "    <tr>\n",
       "      <th>11</th>\n",
       "      <td>18.123991</td>\n",
       "    </tr>\n",
       "    <tr>\n",
       "      <th>12</th>\n",
       "      <td>11.218294</td>\n",
       "    </tr>\n",
       "    <tr>\n",
       "      <th>13</th>\n",
       "      <td>10.012868</td>\n",
       "    </tr>\n",
       "    <tr>\n",
       "      <th>14</th>\n",
       "      <td>12.615181</td>\n",
       "    </tr>\n",
       "    <tr>\n",
       "      <th>15</th>\n",
       "      <td>10.957731</td>\n",
       "    </tr>\n",
       "    <tr>\n",
       "      <th>16</th>\n",
       "      <td>6.689123</td>\n",
       "    </tr>\n",
       "    <tr>\n",
       "      <th>17</th>\n",
       "      <td>9.392969</td>\n",
       "    </tr>\n",
       "    <tr>\n",
       "      <th>18</th>\n",
       "      <td>5.210163</td>\n",
       "    </tr>\n",
       "    <tr>\n",
       "      <th>19</th>\n",
       "      <td>4.673643</td>\n",
       "    </tr>\n",
       "    <tr>\n",
       "      <th>20</th>\n",
       "      <td>0.328626</td>\n",
       "    </tr>\n",
       "    <tr>\n",
       "      <th>21</th>\n",
       "      <td>0.897603</td>\n",
       "    </tr>\n",
       "    <tr>\n",
       "      <th>22</th>\n",
       "      <td>3.165600</td>\n",
       "    </tr>\n",
       "    <tr>\n",
       "      <th>23</th>\n",
       "      <td>1.931416</td>\n",
       "    </tr>\n",
       "    <tr>\n",
       "      <th>24</th>\n",
       "      <td>2.576782</td>\n",
       "    </tr>\n",
       "    <tr>\n",
       "      <th>25</th>\n",
       "      <td>4.625689</td>\n",
       "    </tr>\n",
       "    <tr>\n",
       "      <th>26</th>\n",
       "      <td>0.789974</td>\n",
       "    </tr>\n",
       "    <tr>\n",
       "      <th>27</th>\n",
       "      <td>2.313806</td>\n",
       "    </tr>\n",
       "    <tr>\n",
       "      <th>28</th>\n",
       "      <td>1.292361</td>\n",
       "    </tr>\n",
       "    <tr>\n",
       "      <th>29</th>\n",
       "      <td>0.953115</td>\n",
       "    </tr>\n",
       "    <tr>\n",
       "      <th>30</th>\n",
       "      <td>3.782570</td>\n",
       "    </tr>\n",
       "    <tr>\n",
       "      <th>31</th>\n",
       "      <td>4.857988</td>\n",
       "    </tr>\n",
       "    <tr>\n",
       "      <th>32</th>\n",
       "      <td>8.943823</td>\n",
       "    </tr>\n",
       "    <tr>\n",
       "      <th>33</th>\n",
       "      <td>8.170735</td>\n",
       "    </tr>\n",
       "    <tr>\n",
       "      <th>34</th>\n",
       "      <td>7.412094</td>\n",
       "    </tr>\n",
       "    <tr>\n",
       "      <th>35</th>\n",
       "      <td>10.336631</td>\n",
       "    </tr>\n",
       "    <tr>\n",
       "      <th>36</th>\n",
       "      <td>15.996620</td>\n",
       "    </tr>\n",
       "    <tr>\n",
       "      <th>37</th>\n",
       "      <td>12.568237</td>\n",
       "    </tr>\n",
       "    <tr>\n",
       "      <th>38</th>\n",
       "      <td>21.342916</td>\n",
       "    </tr>\n",
       "    <tr>\n",
       "      <th>39</th>\n",
       "      <td>20.114413</td>\n",
       "    </tr>\n",
       "    <tr>\n",
       "      <th>40</th>\n",
       "      <td>22.839406</td>\n",
       "    </tr>\n",
       "    <tr>\n",
       "      <th>41</th>\n",
       "      <td>16.983279</td>\n",
       "    </tr>\n",
       "    <tr>\n",
       "      <th>42</th>\n",
       "      <td>25.142082</td>\n",
       "    </tr>\n",
       "    <tr>\n",
       "      <th>43</th>\n",
       "      <td>26.104740</td>\n",
       "    </tr>\n",
       "    <tr>\n",
       "      <th>44</th>\n",
       "      <td>28.912188</td>\n",
       "    </tr>\n",
       "    <tr>\n",
       "      <th>45</th>\n",
       "      <td>17.843957</td>\n",
       "    </tr>\n",
       "    <tr>\n",
       "      <th>46</th>\n",
       "      <td>34.530743</td>\n",
       "    </tr>\n",
       "    <tr>\n",
       "      <th>47</th>\n",
       "      <td>27.698383</td>\n",
       "    </tr>\n",
       "    <tr>\n",
       "      <th>48</th>\n",
       "      <td>41.514822</td>\n",
       "    </tr>\n",
       "  </tbody>\n",
       "</table>\n",
       "</div>"
      ],
      "text/plain": [
       "    Ice Cream Sales (units)\n",
       "0                 41.842986\n",
       "1                 34.661120\n",
       "2                 39.383001\n",
       "3                 37.539845\n",
       "4                 32.284531\n",
       "5                 30.001138\n",
       "6                 22.635401\n",
       "7                 25.365022\n",
       "8                 19.226970\n",
       "9                 20.279679\n",
       "10                13.275828\n",
       "11                18.123991\n",
       "12                11.218294\n",
       "13                10.012868\n",
       "14                12.615181\n",
       "15                10.957731\n",
       "16                 6.689123\n",
       "17                 9.392969\n",
       "18                 5.210163\n",
       "19                 4.673643\n",
       "20                 0.328626\n",
       "21                 0.897603\n",
       "22                 3.165600\n",
       "23                 1.931416\n",
       "24                 2.576782\n",
       "25                 4.625689\n",
       "26                 0.789974\n",
       "27                 2.313806\n",
       "28                 1.292361\n",
       "29                 0.953115\n",
       "30                 3.782570\n",
       "31                 4.857988\n",
       "32                 8.943823\n",
       "33                 8.170735\n",
       "34                 7.412094\n",
       "35                10.336631\n",
       "36                15.996620\n",
       "37                12.568237\n",
       "38                21.342916\n",
       "39                20.114413\n",
       "40                22.839406\n",
       "41                16.983279\n",
       "42                25.142082\n",
       "43                26.104740\n",
       "44                28.912188\n",
       "45                17.843957\n",
       "46                34.530743\n",
       "47                27.698383\n",
       "48                41.514822"
      ]
     },
     "execution_count": 11,
     "metadata": {},
     "output_type": "execute_result"
    }
   ],
   "source": [
    "train_output"
   ]
  },
  {
   "cell_type": "code",
   "execution_count": 12,
   "id": "c879719f",
   "metadata": {
    "execution": {
     "iopub.execute_input": "2024-04-21T06:43:46.691151Z",
     "iopub.status.busy": "2024-04-21T06:43:46.690725Z",
     "iopub.status.idle": "2024-04-21T06:43:46.701578Z",
     "shell.execute_reply": "2024-04-21T06:43:46.700537Z"
    },
    "papermill": {
     "duration": 0.023619,
     "end_time": "2024-04-21T06:43:46.704058",
     "exception": false,
     "start_time": "2024-04-21T06:43:46.680439",
     "status": "completed"
    },
    "tags": []
   },
   "outputs": [
    {
     "data": {
      "text/html": [
       "<div>\n",
       "<style scoped>\n",
       "    .dataframe tbody tr th:only-of-type {\n",
       "        vertical-align: middle;\n",
       "    }\n",
       "\n",
       "    .dataframe tbody tr th {\n",
       "        vertical-align: top;\n",
       "    }\n",
       "\n",
       "    .dataframe thead th {\n",
       "        text-align: right;\n",
       "    }\n",
       "</style>\n",
       "<table border=\"1\" class=\"dataframe\">\n",
       "  <thead>\n",
       "    <tr style=\"text-align: right;\">\n",
       "      <th></th>\n",
       "      <th>Ice Cream Sales (units)</th>\n",
       "    </tr>\n",
       "  </thead>\n",
       "  <tbody>\n",
       "    <tr>\n",
       "      <th>0</th>\n",
       "      <td>41.842986</td>\n",
       "    </tr>\n",
       "    <tr>\n",
       "      <th>1</th>\n",
       "      <td>34.661120</td>\n",
       "    </tr>\n",
       "    <tr>\n",
       "      <th>2</th>\n",
       "      <td>39.383001</td>\n",
       "    </tr>\n",
       "    <tr>\n",
       "      <th>3</th>\n",
       "      <td>37.539845</td>\n",
       "    </tr>\n",
       "    <tr>\n",
       "      <th>4</th>\n",
       "      <td>32.284531</td>\n",
       "    </tr>\n",
       "  </tbody>\n",
       "</table>\n",
       "</div>"
      ],
      "text/plain": [
       "   Ice Cream Sales (units)\n",
       "0                41.842986\n",
       "1                34.661120\n",
       "2                39.383001\n",
       "3                37.539845\n",
       "4                32.284531"
      ]
     },
     "execution_count": 12,
     "metadata": {},
     "output_type": "execute_result"
    }
   ],
   "source": [
    "train_output.head()"
   ]
  },
  {
   "cell_type": "code",
   "execution_count": 13,
   "id": "1afea570",
   "metadata": {
    "execution": {
     "iopub.execute_input": "2024-04-21T06:43:46.725342Z",
     "iopub.status.busy": "2024-04-21T06:43:46.724944Z",
     "iopub.status.idle": "2024-04-21T06:43:46.733659Z",
     "shell.execute_reply": "2024-04-21T06:43:46.732401Z"
    },
    "papermill": {
     "duration": 0.022949,
     "end_time": "2024-04-21T06:43:46.736347",
     "exception": false,
     "start_time": "2024-04-21T06:43:46.713398",
     "status": "completed"
    },
    "tags": []
   },
   "outputs": [
    {
     "data": {
      "text/plain": [
       "(49, 1)"
      ]
     },
     "execution_count": 13,
     "metadata": {},
     "output_type": "execute_result"
    }
   ],
   "source": [
    "train_input.shape"
   ]
  },
  {
   "cell_type": "code",
   "execution_count": 14,
   "id": "fee560c8",
   "metadata": {
    "execution": {
     "iopub.execute_input": "2024-04-21T06:43:46.757270Z",
     "iopub.status.busy": "2024-04-21T06:43:46.755910Z",
     "iopub.status.idle": "2024-04-21T06:43:46.764924Z",
     "shell.execute_reply": "2024-04-21T06:43:46.763807Z"
    },
    "papermill": {
     "duration": 0.022546,
     "end_time": "2024-04-21T06:43:46.767763",
     "exception": false,
     "start_time": "2024-04-21T06:43:46.745217",
     "status": "completed"
    },
    "tags": []
   },
   "outputs": [
    {
     "data": {
      "text/plain": [
       "array([-4.66226268, -4.31655945, -4.21398476, -3.94966109, -3.57855372,\n",
       "       -3.4557117 , -3.10844012, -3.08130332, -2.67246083, -2.65228679,\n",
       "       -2.65149803, -2.288264  , -2.11186969, -1.81893761, -1.66034773,\n",
       "       -1.32637898, -1.17312327, -0.77333004, -0.6737528 , -0.14963487,\n",
       "       -0.0361565 , -0.03389529,  0.0086077 ,  0.14924457,  0.68878091,\n",
       "        0.69359887,  0.87490503,  1.02418081,  1.24071162,  1.35981267,\n",
       "        1.74000001,  1.85055193,  1.99931037,  2.0751006 ,  2.31859124,\n",
       "        2.471946  ,  2.78483646,  2.83176021,  2.95993209,  3.02087431,\n",
       "        3.21136614,  3.27004407,  3.31607252,  3.33593241,  3.61077848,\n",
       "        3.70405744,  4.13086796,  4.13353379,  4.89903151])"
      ]
     },
     "execution_count": 14,
     "metadata": {},
     "output_type": "execute_result"
    }
   ],
   "source": [
    "np.array(train_input).flatten()"
   ]
  },
  {
   "cell_type": "code",
   "execution_count": 15,
   "id": "ea6d800e",
   "metadata": {
    "execution": {
     "iopub.execute_input": "2024-04-21T06:43:46.788266Z",
     "iopub.status.busy": "2024-04-21T06:43:46.787854Z",
     "iopub.status.idle": "2024-04-21T06:43:47.292882Z",
     "shell.execute_reply": "2024-04-21T06:43:47.291432Z"
    },
    "papermill": {
     "duration": 0.518435,
     "end_time": "2024-04-21T06:43:47.295725",
     "exception": false,
     "start_time": "2024-04-21T06:43:46.777290",
     "status": "completed"
    },
    "tags": []
   },
   "outputs": [],
   "source": [
    "from sklearn.linear_model import LinearRegression\n",
    "from sklearn.preprocessing import PolynomialFeatures"
   ]
  },
  {
   "cell_type": "code",
   "execution_count": 16,
   "id": "da456b19",
   "metadata": {
    "execution": {
     "iopub.execute_input": "2024-04-21T06:43:47.317343Z",
     "iopub.status.busy": "2024-04-21T06:43:47.316908Z",
     "iopub.status.idle": "2024-04-21T06:43:47.344315Z",
     "shell.execute_reply": "2024-04-21T06:43:47.342930Z"
    },
    "papermill": {
     "duration": 0.041245,
     "end_time": "2024-04-21T06:43:47.347187",
     "exception": false,
     "start_time": "2024-04-21T06:43:47.305942",
     "status": "completed"
    },
    "tags": []
   },
   "outputs": [
    {
     "data": {
      "text/html": [
       "<style>#sk-container-id-1 {color: black;background-color: white;}#sk-container-id-1 pre{padding: 0;}#sk-container-id-1 div.sk-toggleable {background-color: white;}#sk-container-id-1 label.sk-toggleable__label {cursor: pointer;display: block;width: 100%;margin-bottom: 0;padding: 0.3em;box-sizing: border-box;text-align: center;}#sk-container-id-1 label.sk-toggleable__label-arrow:before {content: \"▸\";float: left;margin-right: 0.25em;color: #696969;}#sk-container-id-1 label.sk-toggleable__label-arrow:hover:before {color: black;}#sk-container-id-1 div.sk-estimator:hover label.sk-toggleable__label-arrow:before {color: black;}#sk-container-id-1 div.sk-toggleable__content {max-height: 0;max-width: 0;overflow: hidden;text-align: left;background-color: #f0f8ff;}#sk-container-id-1 div.sk-toggleable__content pre {margin: 0.2em;color: black;border-radius: 0.25em;background-color: #f0f8ff;}#sk-container-id-1 input.sk-toggleable__control:checked~div.sk-toggleable__content {max-height: 200px;max-width: 100%;overflow: auto;}#sk-container-id-1 input.sk-toggleable__control:checked~label.sk-toggleable__label-arrow:before {content: \"▾\";}#sk-container-id-1 div.sk-estimator input.sk-toggleable__control:checked~label.sk-toggleable__label {background-color: #d4ebff;}#sk-container-id-1 div.sk-label input.sk-toggleable__control:checked~label.sk-toggleable__label {background-color: #d4ebff;}#sk-container-id-1 input.sk-hidden--visually {border: 0;clip: rect(1px 1px 1px 1px);clip: rect(1px, 1px, 1px, 1px);height: 1px;margin: -1px;overflow: hidden;padding: 0;position: absolute;width: 1px;}#sk-container-id-1 div.sk-estimator {font-family: monospace;background-color: #f0f8ff;border: 1px dotted black;border-radius: 0.25em;box-sizing: border-box;margin-bottom: 0.5em;}#sk-container-id-1 div.sk-estimator:hover {background-color: #d4ebff;}#sk-container-id-1 div.sk-parallel-item::after {content: \"\";width: 100%;border-bottom: 1px solid gray;flex-grow: 1;}#sk-container-id-1 div.sk-label:hover label.sk-toggleable__label {background-color: #d4ebff;}#sk-container-id-1 div.sk-serial::before {content: \"\";position: absolute;border-left: 1px solid gray;box-sizing: border-box;top: 0;bottom: 0;left: 50%;z-index: 0;}#sk-container-id-1 div.sk-serial {display: flex;flex-direction: column;align-items: center;background-color: white;padding-right: 0.2em;padding-left: 0.2em;position: relative;}#sk-container-id-1 div.sk-item {position: relative;z-index: 1;}#sk-container-id-1 div.sk-parallel {display: flex;align-items: stretch;justify-content: center;background-color: white;position: relative;}#sk-container-id-1 div.sk-item::before, #sk-container-id-1 div.sk-parallel-item::before {content: \"\";position: absolute;border-left: 1px solid gray;box-sizing: border-box;top: 0;bottom: 0;left: 50%;z-index: -1;}#sk-container-id-1 div.sk-parallel-item {display: flex;flex-direction: column;z-index: 1;position: relative;background-color: white;}#sk-container-id-1 div.sk-parallel-item:first-child::after {align-self: flex-end;width: 50%;}#sk-container-id-1 div.sk-parallel-item:last-child::after {align-self: flex-start;width: 50%;}#sk-container-id-1 div.sk-parallel-item:only-child::after {width: 0;}#sk-container-id-1 div.sk-dashed-wrapped {border: 1px dashed gray;margin: 0 0.4em 0.5em 0.4em;box-sizing: border-box;padding-bottom: 0.4em;background-color: white;}#sk-container-id-1 div.sk-label label {font-family: monospace;font-weight: bold;display: inline-block;line-height: 1.2em;}#sk-container-id-1 div.sk-label-container {text-align: center;}#sk-container-id-1 div.sk-container {/* jupyter's `normalize.less` sets `[hidden] { display: none; }` but bootstrap.min.css set `[hidden] { display: none !important; }` so we also need the `!important` here to be able to override the default hidden behavior on the sphinx rendered scikit-learn.org. See: https://github.com/scikit-learn/scikit-learn/issues/21755 */display: inline-block !important;position: relative;}#sk-container-id-1 div.sk-text-repr-fallback {display: none;}</style><div id=\"sk-container-id-1\" class=\"sk-top-container\"><div class=\"sk-text-repr-fallback\"><pre>LinearRegression()</pre><b>In a Jupyter environment, please rerun this cell to show the HTML representation or trust the notebook. <br />On GitHub, the HTML representation is unable to render, please try loading this page with nbviewer.org.</b></div><div class=\"sk-container\" hidden><div class=\"sk-item\"><div class=\"sk-estimator sk-toggleable\"><input class=\"sk-toggleable__control sk-hidden--visually\" id=\"sk-estimator-id-1\" type=\"checkbox\" checked><label for=\"sk-estimator-id-1\" class=\"sk-toggleable__label sk-toggleable__label-arrow\">LinearRegression</label><div class=\"sk-toggleable__content\"><pre>LinearRegression()</pre></div></div></div></div></div>"
      ],
      "text/plain": [
       "LinearRegression()"
      ]
     },
     "execution_count": 16,
     "metadata": {},
     "output_type": "execute_result"
    }
   ],
   "source": [
    "lr=LinearRegression()\n",
    "lr.fit(train_input,train_output)"
   ]
  },
  {
   "cell_type": "code",
   "execution_count": 17,
   "id": "7dc78e47",
   "metadata": {
    "execution": {
     "iopub.execute_input": "2024-04-21T06:43:47.367702Z",
     "iopub.status.busy": "2024-04-21T06:43:47.367323Z",
     "iopub.status.idle": "2024-04-21T06:43:47.701257Z",
     "shell.execute_reply": "2024-04-21T06:43:47.699935Z"
    },
    "papermill": {
     "duration": 0.347666,
     "end_time": "2024-04-21T06:43:47.704249",
     "exception": false,
     "start_time": "2024-04-21T06:43:47.356583",
     "status": "completed"
    },
    "tags": []
   },
   "outputs": [
    {
     "data": {
      "text/plain": [
       "[<matplotlib.lines.Line2D at 0x7c36679bf100>]"
      ]
     },
     "execution_count": 17,
     "metadata": {},
     "output_type": "execute_result"
    },
    {
     "data": {
      "image/png": "[encoded data removed]",
      "text/plain": [
       "<Figure size 640x480 with 1 Axes>"
      ]
     },
     "metadata": {},
     "output_type": "display_data"
    }
   ],
   "source": [
    "    plr=PolynomialFeatures(degree=4)\n",
    "    poly=plr.fit_transform(train_input)\n",
    "    #print(poly[:5])\n",
    "    lr.fit(poly,train_output)\n",
    "    predictions=np.array(lr.predict(poly),ndmin=2)\n",
    "    sns.scatterplot(x=\"Temperature (°C)\",y=\"Ice Cream Sales (units)\",data=df)\n",
    "    #sns.lineplot(x=np.array(train_input).flatten(),y=np.array(predictions).flatten())\n",
    "    plt.plot(train_input,predictions,color=\"red\")\n",
    "    "
   ]
  },
  {
   "cell_type": "code",
   "execution_count": null,
   "id": "ea4e1e25",
   "metadata": {
    "papermill": {
     "duration": 0.009962,
     "end_time": "2024-04-21T06:43:47.724806",
     "exception": false,
     "start_time": "2024-04-21T06:43:47.714844",
     "status": "completed"
    },
    "tags": []
   },
   "outputs": [],
   "source": []
  }
 ],
 "metadata": {
  "kaggle": {
   "accelerator": "none",
   "dataSources": [
    {
     "datasetId": 3482232,
     "sourceId": 6082268,
     "sourceType": "datasetVersion"
    }
   ],
   "dockerImageVersionId": 30702,
   "isGpuEnabled": false,
   "isInternetEnabled": true,
   "language": "python",
   "sourceType": "notebook"
  },
  "kernelspec": {
   "display_name": "Python 3",
   "language": "python",
   "name": "python3"
  },
  "language_info": {
   "codemirror_mode": {
    "name": "ipython",
    "version": 3
   },
   "file_extension": ".py",
   "mimetype": "text/x-python",
   "name": "python",
   "nbconvert_exporter": "python",
   "pygments_lexer": "ipython3",
   "version": "3.10.13"
  },
  "papermill": {
   "default_parameters": {},
   "duration": 8.408869,
   "end_time": "2024-04-21T06:43:48.462382",
   "environment_variables": {},
   "exception": null,
   "input_path": "__notebook__.ipynb",
   "output_path": "__notebook__.ipynb",
   "parameters": {},
   "start_time": "2024-04-21T06:43:40.053513",
   "version": "2.5.0"
  }
 },
 "nbformat": 4,
 "nbformat_minor": 5
}
